{
 "cells": [
  {
   "cell_type": "markdown",
   "metadata": {
    "colab_type": "text",
    "id": "I8CoX4R7VoCd"
   },
   "source": [
    "# 反爬：代理伺服器/IP\n",
    "\n",
    "* 了解「IP 黑/白名單」的反爬蟲機制\n",
    "* 「IP 黑/白名單」反爬蟲的因應策略"
   ]
  },
  {
   "cell_type": "markdown",
   "metadata": {
    "colab_type": "text",
    "id": "n-3DZ_r5VoCe"
   },
   "source": [
    "## 作業目標\n",
    "\n",
    "* 目前程式中的 proxy_ips 是手動輸入的，請根據 https://free-proxy-list.net/ 寫一個可自動化抓取可用 Proxy 的 proxy_ips。\n",
    "\n",
    "\n"
   ]
  },
  {
   "cell_type": "code",
   "execution_count": 4,
   "metadata": {
    "colab": {},
    "colab_type": "code",
    "id": "iny-9heBVoCf"
   },
   "outputs": [
    {
     "name": "stdout",
     "output_type": "stream",
     "text": [
      "第1頁已爬完\n",
      "第2頁已爬完\n",
      "第3頁已爬完\n",
      "第4頁已爬完\n",
      "第5頁已爬完\n",
      "第6頁已爬完\n",
      "第7頁已爬完\n",
      "第8頁已爬完\n",
      "第9頁已爬完\n"
     ]
    }
   ],
   "source": [
    "from bs4 import BeautifulSoup\n",
    "import requests\n",
    "import random\n",
    "import time\n",
    "from selenium import webdriver\n",
    "from selenium.webdriver.common.keys import Keys\n",
    "\n",
    "proxy_ips = []\n",
    "\n",
    "proxy_url = 'https://free-proxy-list.net/'\n",
    "browser = webdriver.Chrome(executable_path='c:/投資/chromedriver_win32/chromedriver')\n",
    "browser.get(proxy_url)  # 打開瀏覽器並連到網頁\n",
    "time.sleep(2)  # delay一段時間等待網頁更新完成\n",
    "\n",
    "n = 0\n",
    "while n<=8:\n",
    "    time.sleep(3)  # delay一段時間等待網頁更新完成\n",
    "    html = browser.page_source\n",
    "    soup = BeautifulSoup(html, 'lxml')\n",
    "    table = soup.find(name = 'table',attrs = {'id':'proxylisttable'})\n",
    "    tbody = table.find('tbody')\n",
    "    \n",
    "    for tr in tbody:\n",
    "        ip = tr.td.string\n",
    "        port = tr.td.next_sibling.string\n",
    "        proxy_ips.append(ip + ':' + port)\n",
    "     #   print(proxy_ips)\n",
    "\n",
    "    n += 1\n",
    "    print(f'第{n}頁已爬完')\n",
    "\n",
    "    for i in range(1):\n",
    "        browser.find_element_by_xpath(\"//li[@class='fg-button ui-button ui-state-default next']/a\").click()\n",
    "        break\n",
    "\n",
    "#     nextpage = browser.find_element_by_xpath(\"//li[@class='fg-button ui-button ui-state-default next']/a/disabled\")\n",
    "#     if nextpage is not None:\n",
    "#         print(f'沒有下一頁了，共{n}頁')\n",
    "#         break\n",
    "#     else:\n",
    "#         browser.find_element_by_xpath(\"//li[@class='fg-button ui-button ui-state-default next']/a\").click()"
   ]
  },
  {
   "cell_type": "code",
   "execution_count": 5,
   "metadata": {
    "colab": {},
    "colab_type": "code",
    "id": "75dIsHjiVoCi"
   },
   "outputs": [
    {
     "name": "stdout",
     "output_type": "stream",
     "text": [
      "Use 151.232.72.13:80\n",
      "Fail\n",
      "Use 103.96.235.178:23500\n",
      "Fail\n",
      "Use 185.54.237.114:3128\n",
      "Fail\n",
      "Use 186.159.3.49:41589\n",
      "Fail\n",
      "Use 94.158.165.19:45915\n",
      "Your IP address: 94.158.165.19\n",
      "Use 190.221.152.130:52116\n",
      "Fail\n",
      "Use 200.223.86.171:44525\n",
      "Fail\n",
      "Use 138.204.117.191:53059\n",
      "Fail\n",
      "Use 175.100.16.20:37725\n",
      "Your IP address: 175.100.16.20\n",
      "Use 36.67.223.67:57877\n",
      "Fail\n"
     ]
    }
   ],
   "source": [
    "for i in range(10):\n",
    "    ip = random.choice(proxy_ips)\n",
    "    print('Use', ip)\n",
    "    try:\n",
    "        resp = requests.get('http://ip.filefab.com/index.php',\n",
    "                        proxies={'http': ip, 'https': ip}, timeout=10)\n",
    "        soup = BeautifulSoup(resp.text, 'html5lib')\n",
    "        print(soup.find('h1', id='ipd').text.strip())\n",
    "    except:\n",
    "        print('Fail')"
   ]
  },
  {
   "cell_type": "code",
   "execution_count": null,
   "metadata": {},
   "outputs": [],
   "source": []
  }
 ],
 "metadata": {
  "colab": {
   "name": "homework.ipynb",
   "provenance": []
  },
  "kernelspec": {
   "display_name": "Python 3",
   "language": "python",
   "name": "python3"
  },
  "language_info": {
   "codemirror_mode": {
    "name": "ipython",
    "version": 3
   },
   "file_extension": ".py",
   "mimetype": "text/x-python",
   "name": "python",
   "nbconvert_exporter": "python",
   "pygments_lexer": "ipython3",
   "version": "3.6.5"
  }
 },
 "nbformat": 4,
 "nbformat_minor": 1
}
