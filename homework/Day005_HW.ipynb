{
 "cells": [
  {
   "cell_type": "markdown",
   "metadata": {},
   "source": [
    "# API 資料串接 - 以 Dcard API 實作範例\n",
    "\n",
    "* 利用 urllib 套件的 urlretrieve 方法下載檔案\n",
    "* 了解 Python File I/O 讀檔、寫檔的用法\n",
    "* 能用運用資源管理器 With Statement 優化寫法"
   ]
  },
  {
   "cell_type": "markdown",
   "metadata": {},
   "source": [
    "## 作業目標\n",
    "\n",
    "* 請利用 API: https://www.dcard.tw/_api/forums/pet/posts?popular=true 回答下列問題：\n",
    "\n",
    "1. 這個 API 一次會回傳幾筆資料？每一筆資料包含哪些欄位？\n",
    "2. 取出每一筆資料的「標題」、「貼文時間」、「留言人數」、「按讚人數」\n",
    "3. 計算熱門/非熱門文章的「平均留言人數」與「平均按讚人數」"
   ]
  },
  {
   "cell_type": "code",
   "execution_count": 6,
   "metadata": {},
   "outputs": [
    {
     "name": "stdout",
     "output_type": "stream",
     "text": [
      "232596349\n",
      "232597960\n",
      "232594031\n",
      "232595975\n",
      "232593872\n",
      "232592798\n",
      "232593083\n",
      "232593372\n",
      "232598383\n",
      "232592928\n",
      "232598614\n",
      "232598758\n",
      "232599218\n",
      "232595347\n",
      "232599728\n",
      "232600153\n",
      "232593034\n",
      "232596457\n",
      "232595870\n",
      "232595832\n",
      "232595593\n",
      "232598446\n",
      "232594491\n",
      "232595887\n",
      "232594702\n",
      "232599431\n",
      "232596689\n",
      "232593869\n",
      "232596088\n",
      "232595469\n",
      "In total 30 responses\n"
     ]
    },
    {
     "data": {
      "text/plain": [
       "dict_keys(['id', 'title', 'excerpt', 'anonymousSchool', 'anonymousDepartment', 'pinned', 'forumId', 'replyId', 'createdAt', 'updatedAt', 'commentCount', 'likeCount', 'withNickname', 'tags', 'topics', 'meta', 'forumName', 'forumAlias', 'gender', 'school', 'replyTitle', 'mediaMeta', 'reactions', 'hidden', 'customStyle', 'isSuspiciousAccount', 'layout', 'withImages', 'withVideos', 'media', 'reportReasonText', 'postAvatar'])"
      ]
     },
     "execution_count": 6,
     "metadata": {},
     "output_type": "execute_result"
    }
   ],
   "source": [
    "# 1. 這個 API 一次會回傳幾筆資料？每一筆資料包含哪些欄位？\n",
    "\n",
    "'''\n",
    "Your Code\n",
    "'''\n",
    "import requests\n",
    "import json\n",
    "\n",
    "r = requests.get('https://www.dcard.tw/_api/forums/pet/posts?popular=true')\n",
    "#r.text\n",
    "response = r.text\n",
    "\n",
    "data = json.loads(response)\n",
    "\n",
    "count = 0\n",
    "for d in data:\n",
    "    print(d['id'])\n",
    "    count = count + 1\n",
    "print('In total', count, 'responses')\n",
    "\n",
    "#包含的欄位\n",
    "dict.keys(data[0])"
   ]
  },
  {
   "cell_type": "code",
   "execution_count": 4,
   "metadata": {},
   "outputs": [
    {
     "name": "stdout",
     "output_type": "stream",
     "text": [
      "232596349 #貓 #圖 我懷疑我家貓咪根本不覺得自己是貓咪 2019-11-29T15:01:23.745Z 20 993\n",
      "232597960 找回失蹤狗狗😭 原來妳也在找我們 2019-11-29T22:33:34.440Z 31 968\n",
      "232594031 🐰誰說兔子不能碰水！兔子❤️海灘 2019-11-29T07:34:46.328Z 60 911\n",
      "232595975 高以翔的療癒系狗狗theo 2019-11-29T13:52:33.150Z 3 782\n",
      "232593872 吸貓治百病 2019-11-29T06:53:05.300Z 11 328\n",
      "232592798 就是你！！！我的菜！！！ 2019-11-29T03:10:51.060Z 0 101\n",
      "232593083 有愛的假兄弟 2019-11-29T04:09:24.480Z 0 62\n",
      "232593372 我家柴犬一系列照片 2019-11-29T05:02:04.820Z 4 46\n",
      "232598383 有貓快拜！！ 2019-11-30T03:07:22.599Z 1 34\n",
      "232592928 囤貓囤起來😻/圖多文長 2019-11-29T03:41:19.070Z 4 34\n",
      "232598614 被擠床原來是一件幸福的事 2019-11-30T04:15:42.699Z 4 31\n",
      "232598758 有人要吸兔嗎？ 2019-11-30T04:58:10.195Z 12 30\n",
      "232599218 我家的貓每天睡覺前一定會做的事 2019-11-30T06:52:29.882Z 5 26\n",
      "232595347 免費寵物溝通 2019-11-29T11:58:23.732Z 19 25\n",
      "232599728 有人想要領養小貓咪嗎 2019-11-30T09:00:26.801Z 13 21\n",
      "232600153 媽 晚餐好了沒 2019-11-30T10:42:58.582Z 2 20\n",
      "232593034 限動裡的小三線們 2019-11-29T04:00:40.448Z 5 20\n",
      "232596457 虎斑狗想找寵物溝通師 2019-11-29T15:22:07.842Z 4 19\n",
      "232595870 求助！剛接回家的小貓生病了嗎 2019-11-29T13:35:26.621Z 3 18\n",
      "232595832 貓男友的拍照技術 2019-11-29T13:28:45.211Z 2 17\n",
      "232595593 貓咪走失了😭😭台中，水湳 2019-11-29T12:46:13.912Z 0 16\n",
      "232598446 #柴 #影片 到底有多討厭洗澡 2019-11-30T03:24:55.897Z 0 15\n",
      "232594491 限動滿滿的老鼠是怎樣 2019-11-29T09:05:18.406Z 19 15\n",
      "232595887 圖 厭世貓化石梗圖 2019-11-29T13:38:15.413Z 1 14\n",
      "232594702 威~柯基你母湯喔 2019-11-29T09:44:50.199Z 0 14\n",
      "232599431 白圍巾白手套橘貓❤️ 2019-11-30T07:44:14.420Z 6 13\n",
      "232596689 6個月小布偶貓 放臭屁 2019-11-29T15:56:00.789Z 6 13\n",
      "232593869 從可愛的小寶寶變成破壞王 2019-11-29T06:52:19.590Z 4 11\n",
      "232596088 貓咪尾巴狂抖是正常的嗎 2019-11-29T14:12:31.389Z 10 10\n",
      "232595469 就只知道睡 2019-11-29T12:25:50.680Z 2 10\n"
     ]
    }
   ],
   "source": [
    "# 2. 取出每一筆資料的「標題」、「貼文時間」、「留言人數」、「按讚人數」\n",
    "\n",
    "'''\n",
    "Your Code\n",
    "'''\n",
    "for d in data:\n",
    "    print(d['id'], d['title'], d['createdAt'], d['commentCount'], d['likeCount'])"
   ]
  },
  {
   "cell_type": "code",
   "execution_count": 5,
   "metadata": {},
   "outputs": [
    {
     "name": "stdout",
     "output_type": "stream",
     "text": [
      "for the popular (average comments, average likes):\n",
      "8.366666666666667\n",
      "153.9\n",
      "for the unpopular (average comments, average likes):\n",
      "2.3333333333333335\n",
      "7.133333333333334\n"
     ]
    }
   ],
   "source": [
    "# 3. 計算熱門/非熱門文章的「平均留言人數」與「平均按讚人數」\n",
    "\n",
    "'''\n",
    "Your Code\n",
    "'''\n",
    "#popular=false\n",
    "p = pcom = plike = 0\n",
    "for d in data:\n",
    "    p = p + 1\n",
    "    pcom = pcom + d['commentCount']\n",
    "    plike = plike + d['likeCount']\n",
    "\n",
    "#popular=false\n",
    "rr = requests.get('https://www.dcard.tw/_api/forums/pet/posts?popular=false')\n",
    "data1 = json.loads(rr.text)\n",
    "\n",
    "q = qcom = qlike = 0\n",
    "for d in data1:\n",
    "    q = q + 1\n",
    "    qcom = qcom + d['commentCount']\n",
    "    qlike = qlike + d['likeCount']\n",
    "\n",
    "print('for the popular (average comments, average likes):', \n",
    "      pcom / p, plike / p,\n",
    "      'for the unpopular (average comments, average likes):',\n",
    "      qcom / q, qlike / q,\n",
    "      sep = '\\n')"
   ]
  },
  {
   "cell_type": "code",
   "execution_count": null,
   "metadata": {},
   "outputs": [],
   "source": []
  },
  {
   "cell_type": "code",
   "execution_count": null,
   "metadata": {},
   "outputs": [],
   "source": []
  }
 ],
 "metadata": {
  "kernelspec": {
   "display_name": "Python 3",
   "language": "python",
   "name": "python3"
  },
  "language_info": {
   "codemirror_mode": {
    "name": "ipython",
    "version": 3
   },
   "file_extension": ".py",
   "mimetype": "text/x-python",
   "name": "python",
   "nbconvert_exporter": "python",
   "pygments_lexer": "ipython3",
   "version": "3.6.5"
  }
 },
 "nbformat": 4,
 "nbformat_minor": 2
}
