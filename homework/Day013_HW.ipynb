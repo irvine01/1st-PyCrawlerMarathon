{
 "cells": [
  {
   "cell_type": "markdown",
   "metadata": {},
   "source": [
    "# PTT 網路爬蟲實作練習\n",
    "\n",
    "\n",
    "* 能夠利用 Request + BeatifulSour 撰寫爬蟲，並存放到合適的資料結構\n"
   ]
  },
  {
   "cell_type": "markdown",
   "metadata": {},
   "source": [
    "## 作業目標\n",
    "\n",
    "根據範例 ，完成以下問題：\n",
    "\n",
    "* ① 印出最新文章的「作者」「標題」「時間」\n",
    "* ② 印出第一頁所有文章的「作者」「標題」「時間」\n"
   ]
  },
  {
   "cell_type": "markdown",
   "metadata": {},
   "source": [
    "### ① 印出最新文章的「作者」「標題」「時間」"
   ]
  },
  {
   "cell_type": "code",
   "execution_count": 2,
   "metadata": {},
   "outputs": [
    {
     "name": "stdout",
     "output_type": "stream",
     "text": [
      "JaredDudley (Jared Dudley)\n",
      "NBA\n",
      "[外絮] Jared Dudley：你必須為你的隊友站出來\n",
      "Thu Dec 12 18:23:50 2019\n",
      "moneiescat (moneiescat)\n",
      "NBA\n",
      "[外絮] DLO或許有機會到明尼蘇達結伴KAT\n",
      "Thu Dec 12 18:37:18 2019\n",
      "XXXXPOXXXX (彈跳甲魚湯)\n",
      "NBA\n",
      "[討論] 有沒有跟裁判argue成功的案例？\n",
      "Thu Dec 12 19:13:16 2019\n",
      "thnlkj0665 (灰色地帶)\n",
      "NBA\n",
      "[花邊] 湖人客場12連勝  詹姆斯：還有提升空間\n",
      "Thu Dec 12 19:39:21 2019\n",
      "a3356140a (優遊自在)\n",
      "NBA\n",
      "[討論] 林書豪還有機會回到NBA嗎？\n",
      "Thu Dec 12 19:40:17 2019\n",
      "Muma5566 (木馬56)\n",
      "NBA\n",
      "[新聞]Jaylen Brown:如果我沒有六犯離場，或許\n",
      "Thu Dec 12 19:46:31 2019\n",
      "Vedan (味丹)\n",
      "NBA\n",
      "[公告] 樂透取消及未來不再開啟樂透\n",
      "Mon Jun 24 15:08:02 2019\n",
      "qazwsx879345 (Rajon Rondo)\n",
      "NBA\n",
      "[公告] 版主上任相關事項\n",
      "Fri Oct 25 10:44:03 2019\n",
      "JerroLi (銀色小刀)\n",
      "NBA\n",
      "[情報] SEASON Schedule 賽程 December 19–20\n",
      "Fri Nov 29 00:46:01 2019\n",
      "dragon803 (好想去露營啊~)\n",
      "NBA\n",
      "[公告]是否禁止basketball top 5文章投票開始\n",
      "Sun Dec  8 23:55:00 2019\n"
     ]
    }
   ],
   "source": [
    "'''\n",
    "Your Code\n",
    "'''\n",
    "import requests\n",
    "from bs4 import BeautifulSoup\n",
    "\n",
    "url = 'https://www.ptt.cc/bbs/NBA/index.html'\n",
    "r = requests.get(url)\n",
    "\n",
    "soup = BeautifulSoup(r.text, \"html5lib\")\n",
    "\n",
    "for d in soup.find_all(class_='title'):\n",
    "    try:\n",
    "        r = BeautifulSoup(requests.get('https://www.ptt.cc'+d.find('a')['href']).text, \"html5lib\")\n",
    "        for i in r.find_all(class_='article-meta-value'):\n",
    "            print(i.text)\n",
    "    except:\n",
    "        continue\n"
   ]
  },
  {
   "cell_type": "markdown",
   "metadata": {},
   "source": [
    "### ② 印出第一頁所有文章的「作者」「標題」「時間」"
   ]
  },
  {
   "cell_type": "code",
   "execution_count": 4,
   "metadata": {},
   "outputs": [
    {
     "name": "stdout",
     "output_type": "stream",
     "text": [
      "Price (Price)\n",
      "NBA\n",
      "[轉錄]Lyotard 對於太陽板討論串的結論\n",
      "Sun May 16 01:54:33 2004\n",
      "Price (Price)\n",
      "NBA\n",
      "[公告] 請停止一切關於本次活動的發言\n",
      "Mon May 24 00:43:00 2004\n",
      "Frankaze (神采風華)\n",
      "NBA\n",
      "[轉錄]跟之前那篇比起來 我覺得這篇也應該轉過來\n",
      "Tue Jun  8 01:16:45 2004\n",
      "Frankaze (神采風華)\n",
      "NBA\n",
      "[轉錄]再轉一篇好文來\n",
      "Tue Jun  8 09:02:23 2004\n",
      "Price (Price)\n",
      "NBA\n",
      "[轉錄][情報] 夏洛特山貓系列\n",
      "Thu Jun 10 00:39:35 2004\n",
      "Price (Price)\n",
      "NBA\n",
      "[轉錄]Re: [心得] 真是受不了糗爺....\n",
      "Thu Jun 10 00:51:35 2004\n",
      "Price (Price)\n",
      "NBA\n",
      "[轉錄]總冠軍賽NO.2觀後感\n",
      "Thu Jun 10 12:05:07 2004\n",
      "AmuroNamie (原來太嗨真的會失眠^___^)\n",
      "NBA\n",
      "[心得] Rasheed Wallace\n",
      "Fri Jun 11 15:06:09 2004\n",
      "toptree (  )\n",
      "NBA\n",
      "掌控球賽的男人\n",
      "Sat Jun 12 07:13:04 2004\n",
      "skchang (3EB板開板囉！)\n",
      "NBA\n",
      "[閒聊] 說說2004季後賽名場面回顧\n",
      "Sat Jun 12 13:21:49 2004\n",
      "shineup ()\n",
      "NBA\n",
      "[心得] 其實說穿了 就是活塞的防守太可怕了\n",
      "Sat Jun 12 13:12:47 2004\n",
      "cOvi (喵~)\n",
      "NBA\n",
      "Re: [閒聊] 說說2004季後賽名場面回顧\n",
      "Sat Jun 12 16:43:07 2004\n",
      "ykshih (￼N￼Ns)\n",
      "NBA\n",
      "Re: [閒聊] 說說2004季後賽名場面回顧\n",
      "Sat Jun 12 17:26:37 2004\n",
      "Frankaze (神采風華)\n",
      "NBA\n",
      "Re: [閒聊] 說說2004季後賽名場面回顧\n",
      "Sat Jun 12 18:34:46 2004\n",
      "Price (Price)\n",
      "NBA\n",
      "[轉錄]Re: 總冠軍賽NO.3觀後感\n",
      "Mon Jun 14 02:18:52 2004\n",
      "Frankaze (神采風華)\n",
      "NBA\n",
      "[轉錄]Re: 總冠軍賽NO.3觀後感\n",
      "Mon Jun 14 02:34:33 2004\n",
      "star1 (第一次魔術表演不算成功)\n",
      "NBA\n",
      "Re: [轉錄]Re: 總冠軍賽NO.3觀後感\n",
      "Mon Jun 14 07:16:30 2004\n",
      "coldspring (笑笑)\n",
      "NBA\n",
      "Re: [轉錄]Re: 總冠軍賽NO.3觀後感\n",
      "Mon Jun 14 09:24:57 2004\n",
      "airbear (地圖)\n",
      "NBA\n",
      "Re: Kobe is frustrated...\n",
      "Mon Jun 14 12:56:14 2004\n",
      "pennykidd (andre)\n",
      "NBA\n",
      "Re: [轉錄]Re: 總冠軍賽NO.3觀後感\n",
      "Mon Jun 14 22:07:01 2004\n"
     ]
    }
   ],
   "source": [
    "'''\n",
    "Your Code\n",
    "'''\n",
    "import requests\n",
    "from bs4 import BeautifulSoup\n",
    "\n",
    "url='https://www.ptt.cc/bbs/NBA/index1.html'\n",
    "\n",
    "r=requests.get(url)\n",
    "soup=BeautifulSoup(r.text,'html5lib')\n",
    "\n",
    "for d in soup.find_all(class_='title'):\n",
    "    try:\n",
    "        r = BeautifulSoup(requests.get('https://www.ptt.cc'+d.find('a')['href']).text, \"html5lib\")\n",
    "        for i in r.find_all(class_='article-meta-value'):\n",
    "            print(i.text)\n",
    "    except:\n",
    "        continue"
   ]
  },
  {
   "cell_type": "markdown",
   "metadata": {},
   "source": [
    "### ③ 試著爬爬看其他版的文章"
   ]
  },
  {
   "cell_type": "code",
   "execution_count": null,
   "metadata": {},
   "outputs": [],
   "source": [
    "'''\n",
    "Your Code\n",
    "'''"
   ]
  }
 ],
 "metadata": {
  "kernelspec": {
   "display_name": "Python 3",
   "language": "python",
   "name": "python3"
  },
  "language_info": {
   "codemirror_mode": {
    "name": "ipython",
    "version": 3
   },
   "file_extension": ".py",
   "mimetype": "text/x-python",
   "name": "python",
   "nbconvert_exporter": "python",
   "pygments_lexer": "ipython3",
   "version": "3.6.5"
  }
 },
 "nbformat": 4,
 "nbformat_minor": 2
}
