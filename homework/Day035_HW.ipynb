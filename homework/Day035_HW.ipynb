{
 "cells": [
  {
   "cell_type": "markdown",
   "metadata": {},
   "source": [
    "# 加速：多線程爬蟲\n",
    "\n",
    "\n",
    "\n",
    "* 了解知乎 API 使用方式與回傳內容\n",
    "* 撰寫程式存取 API 且添加標頭"
   ]
  },
  {
   "cell_type": "markdown",
   "metadata": {},
   "source": [
    "## 作業目標\n",
    "\n",
    "* 找一個之前實作過的爬蟲改用多線程改寫，比較前後時間的差異。\n",
    "\n",
    "\n",
    "\n"
   ]
  },
  {
   "cell_type": "code",
   "execution_count": 34,
   "metadata": {},
   "outputs": [
    {
     "name": "stdout",
     "output_type": "stream",
     "text": [
      "0.0009984970092773438\n"
     ]
    }
   ],
   "source": [
    "import _thread\n",
    "import time\n",
    "import requests\n",
    "import re\n",
    "from bs4 import BeautifulSoup\n",
    "# 查看目前上映那些電影，並擷取出其ID資訊\n",
    "def get_movie(url,id,delay):\n",
    "    resp = requests.get(url)\n",
    "    resp.encoding = 'utf-8'\n",
    "\n",
    "    soup = BeautifulSoup(resp.text, 'lxml')\n",
    "    html = soup.find(\"select\", attrs={'name':'movie_id'})\n",
    "    movie_item = html.find_all(\"option\", attrs={'data-name':re.compile('.*')})\n",
    "\n",
    "    for p in movie_item:\n",
    "        time.sleep(delay)\n",
    "        #print('ID => ', id)\n",
    "        #print(\"Movie: %s, ID: %s\" % (p[\"data-name\"], p[\"value\"]))\n",
    "\n",
    "startTime = time.time()\n",
    "\n",
    "id1=1\n",
    "id2=2\n",
    "myurl='https://movies.yahoo.com.tw/'\n",
    "_thread.start_new_thread( get_movie, (myurl,id1,1) )\n",
    "_thread.start_new_thread( get_movie, (myurl,id2,1 ))\n",
    "\n",
    "finishTime = time.time()\n",
    "print(finishTime - startTime) # 正常情況的爬蟲所需時間"
   ]
  },
  {
   "cell_type": "code",
   "execution_count": 35,
   "metadata": {},
   "outputs": [
    {
     "name": "stdout",
     "output_type": "stream",
     "text": [
      "165.6987977027893\n"
     ]
    }
   ],
   "source": [
    "startTime = time.time()\n",
    "\n",
    "id1=1\n",
    "id2=2\n",
    "myurl='https://movies.yahoo.com.tw/'\n",
    "get_movie(myurl,id1,1)\n",
    "get_movie(myurl,id2,1)\n",
    "\n",
    "finishTime = time.time()\n",
    "print(finishTime - startTime) # 正常情況的爬蟲所需時間"
   ]
  },
  {
   "cell_type": "code",
   "execution_count": null,
   "metadata": {},
   "outputs": [],
   "source": []
  }
 ],
 "metadata": {
  "colab": {
   "name": "homework.ipynb",
   "provenance": []
  },
  "kernelspec": {
   "display_name": "Python 3",
   "language": "python",
   "name": "python3"
  },
  "language_info": {
   "codemirror_mode": {
    "name": "ipython",
    "version": 3
   },
   "file_extension": ".py",
   "mimetype": "text/x-python",
   "name": "python",
   "nbconvert_exporter": "python",
   "pygments_lexer": "ipython3",
   "version": "3.6.5"
  }
 },
 "nbformat": 4,
 "nbformat_minor": 1
}
