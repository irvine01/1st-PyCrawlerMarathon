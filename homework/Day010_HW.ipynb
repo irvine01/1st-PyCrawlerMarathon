{
 "cells": [
  {
   "cell_type": "markdown",
   "metadata": {},
   "source": [
    "# 其他工具：Grab、PyQuery\n",
    "\n",
    "\n",
    "* 利用 Grab 套件的存取 HTML 資源\n",
    "* 利用 PyQuery 套件的解析 HTML 格式\n"
   ]
  },
  {
   "cell_type": "markdown",
   "metadata": {},
   "source": [
    "## 作業目標\n",
    "\n",
    "將之前用 requests + beatifulsoup 實作的方式，改寫成 grab + pyquery，並且比較有哪些地方不同。\n",
    "\n",
    "\n",
    "\n"
   ]
  },
  {
   "cell_type": "markdown",
   "metadata": {},
   "source": [
    "## requests + BeautifulSoup\n"
   ]
  },
  {
   "cell_type": "code",
   "execution_count": 1,
   "metadata": {},
   "outputs": [
    {
     "name": "stdout",
     "output_type": "stream",
     "text": [
      "取得所有頻道:\n",
      "新聞\n",
      "股市\n",
      "理財\n",
      "運動\n",
      "名人娛樂\n",
      "電影\n",
      "Yahoo TV\n",
      "遊戲\n",
      "動漫\n",
      "日本代購\n",
      "字典\n",
      "知識+\n",
      "3C科技\n",
      "信箱\n",
      "氣象\n",
      "ATM\n",
      "公益\n",
      "找店+\n",
      "訂餐廳\n",
      "拍賣\n",
      "購物中心\n",
      "超級商城\n",
      "生活團購\n",
      "每日好康\n",
      "汽車機車\n",
      "中古車\n",
      "保險\n",
      "時尚美妝\n",
      "房地產\n",
      "旅遊\n",
      "健康\n",
      "星座算命\n",
      "APP下載\n",
      "網路開店\n",
      "買關鍵字\n",
      "網路行銷\n",
      "聯名卡\n",
      "帳號保護\n"
     ]
    }
   ],
   "source": [
    "'''\n",
    "Your Code\n",
    "'''\n",
    "import requests\n",
    "from bs4 import BeautifulSoup\n",
    "\n",
    "url = 'https://www.yahoo.com'\n",
    "\n",
    "# 加上 Header 即可取回正常資料\n",
    "headers = {\n",
    "    'user-agent': 'Mozilla/5.0 (Windows NT 10.0; Win64; x64) AppleWebKit/537.36 (KHTML, like Gecko) Chrome/74.0.3729.169 Safari/537.36'\n",
    "}\n",
    "\n",
    "r = requests.get(url, headers=headers)\n",
    "r.encoding = 'utf-8'\n",
    "\n",
    "soup = BeautifulSoup(r.text,'html.parser')     \n",
    "\n",
    "print('取得所有頻道:')\n",
    "for tar in soup.find_all('span',class_='Cur-p D-ib Py-8 C-blue MouseOver-TextDecoration'):\n",
    "    print(tar.get_text())"
   ]
  },
  {
   "cell_type": "markdown",
   "metadata": {},
   "source": [
    "## Grab + PyQuery"
   ]
  },
  {
   "cell_type": "code",
   "execution_count": 2,
   "metadata": {
    "scrolled": false
   },
   "outputs": [
    {
     "name": "stdout",
     "output_type": "stream",
     "text": [
      "取得所有頻道:\n",
      "新聞\n",
      "股市\n",
      "理財\n",
      "運動\n",
      "名人娛樂\n",
      "電影\n",
      "Yahoo TV\n",
      "遊戲\n",
      "動漫\n",
      "日本代購\n",
      "字典\n",
      "知識+\n",
      "3C科技\n",
      "信箱\n",
      "氣象\n",
      "ATM\n",
      "公益\n",
      "找店+\n",
      "訂餐廳\n",
      "拍賣\n",
      "購物中心\n",
      "超級商城\n",
      "生活團購\n",
      "每日好康\n",
      "汽車機車\n",
      "中古車\n",
      "保險\n",
      "時尚美妝\n",
      "房地產\n",
      "旅遊\n",
      "健康\n",
      "星座算命\n",
      "APP下載\n",
      "網路開店\n",
      "買關鍵字\n",
      "網路行銷\n",
      "聯名卡\n",
      "帳號保護\n"
     ]
    }
   ],
   "source": [
    "'''\n",
    "Your Code\n",
    "'''\n",
    "from grab import Grab as gr\n",
    "from pyquery import PyQuery as pq\n",
    "\n",
    "url = 'https://www.yahoo.com'\n",
    "\n",
    "g = gr()\n",
    "resp = g.go(url,encoding='utf-8')\n",
    "\n",
    "doc = pq(resp.body)\n",
    "span = doc('.drag-item.D-b.Td-n').find(\"span\") \n",
    "\n",
    "print('取得所有頻道:')\n",
    "for item in span.items():\n",
    "    print(item.text())"
   ]
  },
  {
   "cell_type": "code",
   "execution_count": null,
   "metadata": {},
   "outputs": [],
   "source": []
  }
 ],
 "metadata": {
  "kernelspec": {
   "display_name": "Python 3",
   "language": "python",
   "name": "python3"
  },
  "language_info": {
   "codemirror_mode": {
    "name": "ipython",
    "version": 3
   },
   "file_extension": ".py",
   "mimetype": "text/x-python",
   "name": "python",
   "nbconvert_exporter": "python",
   "pygments_lexer": "ipython3",
   "version": "3.6.5"
  }
 },
 "nbformat": 4,
 "nbformat_minor": 2
}
